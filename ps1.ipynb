{
 "cells": [
  {
   "cell_type": "markdown",
   "id": "4fcdbc3e",
   "metadata": {
    "deletable": false,
    "nbgrader": {
     "cell_type": "markdown",
     "checksum": "0b1dcb9031019b2d3b8d5c44c50bf7c3",
     "grade": true,
     "grade_id": "cell-1fad288cbe7a1652",
     "locked": false,
     "points": 0,
     "schema_version": 3,
     "solution": true,
     "task": false
    }
   },
   "source": [
    "\n",
    "\n",
    "Group nr:  \n",
    "\n",
    "Name 1 and CID: Rafat Haque (rafat)\n",
    "\n",
    "Name 2 and CID: Nidal Zeineddin (nidalz)"
   ]
  },
  {
   "cell_type": "code",
   "execution_count": 2,
   "id": "5cc94499",
   "metadata": {
    "deletable": false,
    "editable": false,
    "nbgrader": {
     "cell_type": "code",
     "checksum": "36c183c6d07da2abcb5b2ec1ecf5b876",
     "grade": false,
     "grade_id": "cell-77a6b5001229b794",
     "locked": true,
     "schema_version": 3,
     "solution": false,
     "task": false
    }
   },
   "outputs": [
    {
     "name": "stdout",
     "output_type": "stream",
     "text": [
      "pygame 2.6.0 (SDL 2.28.4, Python 3.12.2)\n",
      "Hello from the pygame community. https://www.pygame.org/contribute.html\n"
     ]
    }
   ],
   "source": [
    "import numpy as np\n",
    "import pygame\n",
    "from IPython.display import Image\n",
    "from BalanceRobot import BalanceRobot"
   ]
  },
  {
   "cell_type": "markdown",
   "id": "f967690b-3283-450c-93af-85b0929166e6",
   "metadata": {
    "deletable": false,
    "editable": false,
    "nbgrader": {
     "cell_type": "markdown",
     "checksum": "bba7644f75b6c62624ceb062ac0d5e62",
     "grade": false,
     "grade_id": "cell-cf1758871d51231a",
     "locked": true,
     "schema_version": 3,
     "solution": false,
     "task": false
    }
   },
   "source": [
    "## Introduction to Jupyter Notebook\n",
    "\n",
    "Jupyter Notebook is a web application that allows you to write code, text and equations in one file. Each code cell can be run individually, but often depend on variables defined in cells above it. This means when you first open the file you will need to run the code cells starting from the top.\n",
    "\n",
    "The text boxes are using Markdown format and to write the equations it uses LaTex format which can be initialized with \\\\$ on each side of the equation, e.g. $ax + b = c$. To edit a text box you double-click them and then to get back the normal text you can run the text box. To run a cell either use the play button on the top or ctrl enter. \n",
    "\n",
    "General note, for math stuff in python, try to use numpy, e.g. np.sin(x) gives you the sin function. "
   ]
  },
  {
   "cell_type": "markdown",
   "id": "8d0fc495",
   "metadata": {
    "deletable": false,
    "editable": false,
    "nbgrader": {
     "cell_type": "markdown",
     "checksum": "10e68ed2f34b79eb4ad8450826e602b3",
     "grade": false,
     "grade_id": "cell-97eb5d17798219e0",
     "locked": true,
     "schema_version": 3,
     "solution": false,
     "task": false
    }
   },
   "source": [
    "## Balance robot\n",
    "\n",
    "In this assignment, we will perform parameter estimation on a balancing robot. First, we will show how the equations of motion can be derived, some of the parameters in these equations will be unknown to us and linear regression will be used to estimate them. The linear regression method requires data to be collected, which will be collected while the robot is balancing with a control algorithm. Below we can see a drawing of the robot."
   ]
  },
  {
   "cell_type": "markdown",
   "id": "19f411e7",
   "metadata": {
    "deletable": false,
    "editable": false,
    "nbgrader": {
     "cell_type": "markdown",
     "checksum": "9784d4b8a280a46012c89949d05b0a78",
     "grade": false,
     "grade_id": "cell-b12f08bf9184d784",
     "locked": true,
     "schema_version": 3,
     "solution": false,
     "task": false
    }
   },
   "source": [
    "\n",
    "<img src=\"img/BallanceRobot.png\" width=\"300\"/>"
   ]
  },
  {
   "cell_type": "markdown",
   "id": "f4f01739",
   "metadata": {
    "deletable": false,
    "editable": false,
    "nbgrader": {
     "cell_type": "markdown",
     "checksum": "56d118daa55972a1e1ff3156101d8061",
     "grade": false,
     "grade_id": "cell-b3467d8f3ea787b6",
     "locked": true,
     "schema_version": 3,
     "solution": false,
     "task": false
    }
   },
   "source": [
    "| Parameter | Description | To be estimated |\n",
    "| --- | --- | --- |\n",
    "| $m_1$ | Mass of main body [kg]| Yes |\n",
    "| $l$ | Distance from wheel hub to $m_1$ [m] | Yes |\n",
    "| $I_1$ | Moment of inertia for main body [kg $\\textrm{m}^2$]| Yes |\n",
    "| $m_2$ | Mass of wheels [kg]| No |\n",
    "| $r$ | Radious of wheels [m]| No |\n",
    "| $I_2$ | Moment of inertia for of wheels [kg $\\textrm{m}^2$]| No |\n",
    "\n",
    "| State | Description | \n",
    "| --- | --- |\n",
    "| $\\alpha_1$ | Angle of main body [rad]| \n",
    "| $\\alpha_2$ | Angle of wheel from position 0 [rad]|\n",
    "| $x_1$ | Position of $m_1$ in x-axis for main body [m]|\n",
    "| $y_1$ | Position of $m_1$ in y-axis for main body [m]|\n",
    "| $x_2$ | Position of $m_2$ in x-axis for wheel [m]|\n",
    "\n"
   ]
  },
  {
   "cell_type": "markdown",
   "id": "f63fc6ac",
   "metadata": {
    "deletable": false,
    "editable": false,
    "nbgrader": {
     "cell_type": "markdown",
     "checksum": "33a6177a2e7f9a1b03979ef6a70b906d",
     "grade": false,
     "grade_id": "cell-2929926407d54e62",
     "locked": true,
     "schema_version": 3,
     "solution": false,
     "task": false
    }
   },
   "source": [
    "## Equations of motion\n",
    "\n",
    "Here we show one way to calculate the equations of motion for the system. To do this we will use the Euler-Lagrange method which builds on finding the stationary solution between the kinetic and potential energy of the system. "
   ]
  },
  {
   "cell_type": "markdown",
   "id": "4395c88b",
   "metadata": {
    "deletable": false,
    "editable": false,
    "nbgrader": {
     "cell_type": "markdown",
     "checksum": "b28fbcad7c8c0a130da1d014e2a92fb6",
     "grade": false,
     "grade_id": "cell-586cc7eb1686fffa",
     "locked": true,
     "schema_version": 3,
     "solution": false,
     "task": false
    }
   },
   "source": [
    "We start with setting up the kinematic relationships. We define $(x_1, y_1)$ to be the position for the centre of mass of the main body and $x_2$ the position of the wheels, both with respect to the coordinate frame. The kinematics equations for the system then become:\n",
    "\n",
    "$x_2 = - \\alpha_2 r$\n",
    "\n",
    "$x_1 = - \\alpha_2 r - l sin(\\alpha_1)$\n",
    "\n",
    "$y_1 = r + l cos(\\alpha_1)$\n",
    "\n",
    "$\\dot{x}_1 = - r \\dot{\\alpha}_2 - l cos(\\alpha_1) \\dot{\\alpha_1}$\n",
    "\n",
    "$\\dot{y}_1 = -l sin(\\alpha_1) \\dot{\\alpha}_1$\n",
    "\n",
    "$\\dot{x}_2 = - r \\dot{\\alpha}_2 $ \n",
    "\n",
    "Potential Energy for the system:\n",
    "\n",
    "$V = l cos(\\alpha_1)m_1g$\n",
    "\n",
    "Kinematic energy:\n",
    "\n",
    "$T = \\frac{1}{2} m_1 (\\dot{x}^2_1 + \\dot{y}^2_1) + \\frac{1}{2} m_2 \\dot{x}^2_2 + \\frac{1}{2} I_1 \\dot{\\alpha}^2_1 + \\frac{1}{2} I_2 \\dot{\\alpha}_2^2$\n",
    "\n",
    "From these the equations of motion for the balance robot can be calculated, here we use the Euler Lagrange method. First the Lagrangian is calculated by: \n",
    "\n",
    "$L = T - V$\n",
    "\n",
    "and becomes:\n",
    "\n",
    "$L = \\frac{1}{2} m_1 (r^2 \\dot{\\alpha}^2_2 + 2 r \\dot{\\alpha}_2 l cos(\\alpha_1) \\dot{\\alpha_1} + l^2  \\dot{\\alpha}_1^2) +\n",
    "\\frac{1}{2} m_2 r^2 \\dot{\\alpha}_2^2 + \\frac{1}{2} I_1 \\dot{\\alpha}^2_1 + \\frac{1}{2} I_2 \\dot{\\alpha}_2^2 -l cos(\\alpha_1)m_1g$"
   ]
  },
  {
   "cell_type": "markdown",
   "id": "b9be77c7",
   "metadata": {
    "deletable": false,
    "editable": false,
    "nbgrader": {
     "cell_type": "markdown",
     "checksum": "266d93af52c934fb657c89b8cd11310c",
     "grade": false,
     "grade_id": "cell-7e23cbef14d36ce1",
     "locked": true,
     "schema_version": 3,
     "solution": false,
     "task": false
    }
   },
   "source": [
    "Euler Lagrange equation is defined by: \n",
    "\n",
    "$\\frac{d}{dt}(\\frac{\\partial L }{\\partial \\dot{q}_i}) - \\frac{\\partial L }{\\partial q_i} = Q_i$\n",
    "\n",
    "Where $q_1 = \\alpha_1$, $q_2 = \\alpha_2$, and $Q_i$ represent external force, in our case, the external force is the torque $M$ generated by the motors between the main body and the wheels. "
   ]
  },
  {
   "cell_type": "markdown",
   "id": "679c5b56",
   "metadata": {
    "deletable": false,
    "editable": false,
    "nbgrader": {
     "cell_type": "markdown",
     "checksum": "6bde795e974660f39d2e86a6bcbf2520",
     "grade": false,
     "grade_id": "cell-3778d4dc026776e0",
     "locked": true,
     "schema_version": 3,
     "solution": false,
     "task": false
    }
   },
   "source": [
    "The equations of motion after simplification becomes:\n",
    "\n",
    "$M = m_1 r \\ddot{\\alpha}_2 l cos(\\alpha_1) + m_1 l^2 \\ddot{\\alpha}_1 + I_1 \\ddot{\\alpha}_1  - lsin(\\alpha_1)m_1g$\n",
    "\n",
    "and\n",
    "\n",
    "$-M =  m_1 r^2 \\ddot{\\alpha}_2 + m_1 rlcos(\\alpha_1) \\ddot{\\alpha}_1 - m_1 rlsin(\\alpha_1)\\dot{\\alpha}_1^2 + m_2 r^2 \\ddot{\\alpha}_2 + I_2 \\ddot{\\alpha}_2$"
   ]
  },
  {
   "cell_type": "markdown",
   "id": "55764bea",
   "metadata": {
    "deletable": false,
    "editable": false,
    "nbgrader": {
     "cell_type": "markdown",
     "checksum": "c915f06597b5919a64ee85ddb5a340c5",
     "grade": false,
     "grade_id": "cell-6cc3bcd2ec72233e",
     "locked": true,
     "schema_version": 3,
     "solution": false,
     "task": false
    }
   },
   "source": [
    "## Exercise 1:\n",
    "\n",
    "To perform parameter identification with linear regression the equations need to be reformulated to the form $ \\mathbf{y} = \\mathbf{X}^T \\mathbf{\\theta}$, where $\\mathbf{y}$ is a vector with 2 elements, $\\mathbf{X}$ is a matrix and the vector $\\mathbf{\\theta}$ will be estimated using regression. There are 3 parameters we want to estimate, $m_1$, $l$ and $I_1$, all other parameters can be assumed to be known. Rewrite the two equations of motion to the form $ y = X^T \\theta $ so that $m_1$, $l$ and $I_1$ can be extracted from $\\theta$. \n",
    "\n",
    "Hint: It might not be possible to linearize the equations so that $\\theta$ directly has the parameters $m_1$, $l$, $I_1$ by themselves, i.e. $\\theta = [m_1, l, I_1]^T$, but instead it might contain combinations of the parameters from which we later can calculate the values of $m_1$, $l$, $I_1$. \n"
   ]
  },
  {
   "cell_type": "markdown",
   "id": "eb6300cb",
   "metadata": {
    "deletable": false,
    "nbgrader": {
     "cell_type": "markdown",
     "checksum": "4b29f8eb8e250d2518606845bf97303f",
     "grade": true,
     "grade_id": "cell-7dfd278a10ab2d5e",
     "locked": false,
     "points": 1,
     "schema_version": 3,
     "solution": true,
     "task": false
    }
   },
   "source": [
    "\n",
    "Answer:\n",
    "\n",
    "$\\left[ \\begin{array}{c}\n",
    " M\\\\\n",
    " -M - m_2 r^2 \\ddot{\\alpha}_2 - I_2 \\ddot{\\alpha}_2\n",
    "\\end{array} \\right] = \n",
    "\\left[ \\begin{array}{ccc}\n",
    "  r \\ddot{\\alpha}_2cos(\\alpha_1) - sin(\\alpha_1)g & \\ddot{\\alpha}_1 &\\ddot{\\alpha}_1&0  \\\\\n",
    "  rcos(\\alpha_1) \\ddot{\\alpha}_1 - rsin(\\alpha_1)\\dot{\\alpha}_1^2 & 0 & 0 & r^2 \\ddot{\\alpha}_2  \\end{array} \\right]\n",
    "\\left[ \\begin{array}{c}\n",
    " m_1l\\\\\n",
    "  m_1l^2\\\\\n",
    "  I_1\\\\\n",
    "  m_1\n",
    "\\end{array} \\right]$\n"
   ]
  },
  {
   "cell_type": "markdown",
   "id": "c1020225",
   "metadata": {
    "deletable": false,
    "editable": false,
    "nbgrader": {
     "cell_type": "markdown",
     "checksum": "ce36c3df4e44cc31a653acc01eb9a105",
     "grade": false,
     "grade_id": "cell-f51c25b2969700c9",
     "locked": true,
     "schema_version": 3,
     "solution": false,
     "task": false
    }
   },
   "source": [
    "## Simulator\n",
    "\n",
    "For those interested, the equations of motion are not only interesting for parameter identification but can also be used to build a simulator for the system. The equations of motion are rewritten to a form where the state of the robot is easier to integrate.\n",
    "\n",
    "$ \\ddot{\\alpha}_2   = \\frac{-M -m_1 rlcos(\\alpha_1) (M + lm_1gsin(\\alpha_1)) / (m_1 l^2 + I_1) + m_1 rlsin(\\alpha_1)\\dot{\\alpha}_1^2}{(m_1 r^2  - m_1^2 r^2 l^2 cos^2(\\alpha_1)/ (m_1 l^2 + I_1) + m_2 r^2 + I_2)} $\n",
    "\n",
    "$\\ddot{\\alpha}_1  = (M -  m_1 r \\ddot{\\alpha}_2 l cos(\\alpha_1) + lm_1gsin(\\alpha_1)) / (m_1 l^2 + I_1)$\n",
    "\n",
    "From these equations, we can simulate the robot by either integrating accelerations with a fixed time step to get the velocity and positions or we can use a differential solver e.g. runge-kutta 45.  "
   ]
  },
  {
   "cell_type": "markdown",
   "id": "c36fd1a6-cc55-47ac-bf4f-a3792642e313",
   "metadata": {
    "deletable": false,
    "editable": false,
    "nbgrader": {
     "cell_type": "markdown",
     "checksum": "653bfc0a2e13aca9b15989162d713371",
     "grade": false,
     "grade_id": "cell-7d5d0e59ac5f88c4",
     "locked": true,
     "schema_version": 3,
     "solution": false,
     "task": false
    }
   },
   "source": [
    "## Controller\n",
    "The robot is essentially an inverted pendilum on wheels, without a controller it will fall. The controller which can be seen below keeps the robot upright and moves it towords a referrence position on the x-axis. In the update function, there is a $\\textit{pos_ref}$ variable that determines the reference signal for the controller, and will later be modified.  "
   ]
  },
  {
   "cell_type": "markdown",
   "id": "4b968be9-ffc3-40ea-82d5-32b6845d6cb3",
   "metadata": {
    "deletable": false,
    "editable": false,
    "nbgrader": {
     "cell_type": "markdown",
     "checksum": "bba7d40c6881d12e12f4449e3b025c73",
     "grade": false,
     "grade_id": "cell-3d8502be777a6564",
     "locked": true,
     "schema_version": 3,
     "solution": false,
     "task": false
    }
   },
   "source": [
    "<img src=\"img/Controller.png\" width=\"500\"/>"
   ]
  },
  {
   "cell_type": "code",
   "execution_count": 3,
   "id": "53f2be83",
   "metadata": {
    "deletable": false,
    "nbgrader": {
     "cell_type": "code",
     "checksum": "f8b7d723a3e28fef1543dc01dd7d5672",
     "grade": true,
     "grade_id": "cell-4e008882c930b18b",
     "locked": false,
     "points": 0,
     "schema_version": 3,
     "solution": true,
     "task": false
    }
   },
   "outputs": [],
   "source": [
    "class Controller(object):\n",
    "    def __init__(self, dt, init_states):\n",
    "        self.dt = dt\n",
    "        # controller parameter for position controller\n",
    "        self.K_pos = 3\n",
    "        self.D_pos = 0.5\n",
    "        # controller parameter for angle controller\n",
    "        self.K_ang = 10\n",
    "        self.I_ang = 1\n",
    "        self.D_ang = 1\n",
    "        # limit the maximum allowed reference angle\n",
    "        self.max_angle = 0.8\n",
    "        # variables for the integrator in the PID controller\n",
    "        self.angle_int = 0\n",
    "    \n",
    "    def update(self, t, states): \n",
    "        # The update function will be called on every timestep and return the torque for the motors. \n",
    "        \n",
    "        # The position reference to follow\n",
    "        # ----------------------------------------------------------------\n",
    "        pos_ref =  0.2*np.sin(t*2)\n",
    "        # ----------------------------------------------------------------\n",
    "        \n",
    "        # PD controller for position\n",
    "        err = self.K_pos*(pos_ref - states['pos']) - self.D_pos * states['vel']\n",
    "        # The error is used as a reference angle, with upper and lower bounds. \n",
    "        ref_ang = -np.clip(err, -self.max_angle, self.max_angle)\n",
    "        self.angle_int += self.dt * (ref_ang - states['a1'])\n",
    "        # PID controller for the angle, generates the desired motor torque. \n",
    "        M = self.K_ang*(ref_ang-states['a1']) + self.I_ang*self.angle_int - self.D_ang*states['da1']\n",
    "    \n",
    "        return M\n"
   ]
  },
  {
   "cell_type": "markdown",
   "id": "e08069c5",
   "metadata": {
    "deletable": false,
    "editable": false,
    "nbgrader": {
     "cell_type": "markdown",
     "checksum": "c575600ab3452d9aaa012d457e3f598d",
     "grade": false,
     "grade_id": "cell-69299d868a034041",
     "locked": true,
     "schema_version": 3,
     "solution": false,
     "task": false
    }
   },
   "source": [
    "## Data collection\n",
    "\n",
    "We need to collect data before we can do any regression on the problem. The data is collected when the robot is following a position reference signal. In the code below the data is collected in vectors, e.g. $\\textrm{da1} = [\\dot{\\alpha}_1(t_0), \\dot{\\alpha}_1(t_1), ... , \\dot{\\alpha}_1(t_n)]$ and so on. The known parameters are g, r, m2 and I2. \n",
    "\n",
    "There are two variables you can change:\n",
    "\n",
    "scale_noise: which scales the added noise to the measurements. \n",
    "\n",
    "sim_speed: which allows you to run the simulation faster then realtime. \n"
   ]
  },
  {
   "cell_type": "code",
   "execution_count": 4,
   "id": "79049395",
   "metadata": {
    "deletable": false,
    "nbgrader": {
     "cell_type": "code",
     "checksum": "d9f0e61f639effe3f7588552b49859e7",
     "grade": true,
     "grade_id": "cell-c42a98b9f91b559f",
     "locked": false,
     "points": 0,
     "schema_version": 3,
     "solution": true,
     "task": false
    }
   },
   "outputs": [],
   "source": [
    "## scale_noise, keep at 1 until later, change it later in exercise 7. \n",
    "# It controls the amount of noise applied to the measurements\n",
    "\n",
    "# ----------------------------------------------------------------\n",
    "scale_noise = 1  # only change for ex 7 , otherwise scale_noise = 1\n",
    "# ----------------------------------------------------------------\n",
    "\n",
    "## Simulation speed, increase it for faster than real-time simulation.\n",
    "sim_speed = 2\n",
    "\n",
    "# number of steps and step size to run the simulation/data collection\n",
    "n_steps = 1000\n",
    "step_time = 1e-2\n",
    "\n",
    "# Initiate the robot\n",
    "robot = BalanceRobot(dt=step_time, sim_speed=sim_speed)\n",
    "try:\n",
    "    # True parameters in the robot.\n",
    "    g = robot.p[\"g\"] # gravity.\n",
    "    r = robot.p[\"r\"] # radius of wheel.\n",
    "    m2 = robot.p[\"m2\"] # mass of wheel.\n",
    "    I2 = robot.p[\"I2\"] # moment of intertia of wheel.\n",
    "\n",
    "    # Initate the controller \n",
    "    state = robot.get_state()\n",
    "    controller = Controller(dt=step_time, init_states=state)\n",
    "\n",
    "    da1 = np.zeros(n_steps)\n",
    "    a1 = np.zeros(n_steps)\n",
    "    da2 = np.zeros(n_steps)\n",
    "    a2 = np.zeros(n_steps)\n",
    "    dda1 = np.zeros(n_steps)\n",
    "    dda2 = np.zeros(n_steps)\n",
    "    M = np.zeros(n_steps)\n",
    "\n",
    "    ## Main loop \n",
    "\n",
    "    for i in range(n_steps):\n",
    "        # calculate time\n",
    "        t = i*step_time\n",
    "        # calculate torque \n",
    "        state = robot.get_state()\n",
    "        M_ = controller.update(t, state)\n",
    "        # step one time step for robot simulation\n",
    "        dda1_, dda2_ = robot.step(torque=M_)\n",
    "\n",
    "        ## Add noice to data\n",
    "        da1[i] = state['da1'] + np.random.normal(0.0, scale_noise*0.02) # d/dt alpha 1\n",
    "        a1[i] = state['a1'] + np.random.normal(0.0, scale_noise*0.03) # alpha 1\n",
    "        da2[i] = state['da2'] + np.random.normal(0.0, scale_noise*0.02) # d/dt alpha 2\n",
    "        a2[i] = state['a2'] + np.random.normal(0.0, scale_noise*0.03) # alpha 2\n",
    "        dda1[i] = dda1_ + np.random.normal(0.0, scale_noise*0.01) # d^2/dt^2 alpha 1\n",
    "        dda2[i] = dda2_ + np.random.normal(0.0, scale_noise*0.01) # d^2/dt^2 alpha 2\n",
    "        M[i] = M_ + np.random.normal(0.0, scale_noise*0.05) # torque 0,\n",
    "\n",
    "    pygame.quit()\n",
    "except:\n",
    "    pygame.quit()\n"
   ]
  },
  {
   "cell_type": "markdown",
   "id": "2e52c22b",
   "metadata": {
    "deletable": false,
    "editable": false,
    "nbgrader": {
     "cell_type": "markdown",
     "checksum": "4d600428ae64501e2dde84b979fbd1d8",
     "grade": false,
     "grade_id": "cell-dafb2ec13e63af7d",
     "locked": true,
     "schema_version": 3,
     "solution": false,
     "task": false
    }
   },
   "source": [
    "## Exercise 2:\n",
    "For the first test, we set the position reference signal to be a sinusoidal shape, e.g. $\\textit{pos_ref} = 0.2 \\sin(2t)$. What would we expect to happen if we used a constant reference signal, i.e. $\\textit{pos_ref} = 0$, instead? Which of the two reference signal would we expect to give better parameter estimation and why? "
   ]
  },
  {
   "cell_type": "markdown",
   "id": "d404cea7",
   "metadata": {
    "deletable": false,
    "nbgrader": {
     "cell_type": "markdown",
     "checksum": "a14e2dc48d758f00afeef0e439f9be5a",
     "grade": true,
     "grade_id": "cell-e2010a3449eeff0d",
     "locked": false,
     "points": 1,
     "schema_version": 3,
     "solution": true,
     "task": false
    }
   },
   "source": [
    "Answer: Sinusodial signal would give the best parameter estimation. That is because using a constant reference signal essentially means we are estimating the parameter for when the robot is standing still. We would want parameters for a more dynamic model. \n",
    "\n"
   ]
  },
  {
   "cell_type": "markdown",
   "id": "4308452a",
   "metadata": {
    "deletable": false,
    "editable": false,
    "nbgrader": {
     "cell_type": "markdown",
     "checksum": "fb2fa6e1edf3ca5e04847eaed094478b",
     "grade": false,
     "grade_id": "cell-bd88a728048691d3",
     "locked": true,
     "schema_version": 3,
     "solution": false,
     "task": false
    }
   },
   "source": [
    "## Exercise 3: Linear regression \n",
    "\n",
    "Use linear regression to estimate the parameters $m_1$, $l$ and $I_1$. You have access to the vectors da1, da, da2, a2, dda1, dda2 and M, and you can use the predefined variables g, r, m2 and I2.    "
   ]
  },
  {
   "cell_type": "code",
   "execution_count": 19,
   "id": "1c010497",
   "metadata": {
    "deletable": false,
    "nbgrader": {
     "cell_type": "code",
     "checksum": "4d560f1336b21bf61daad0b17dbb46d5",
     "grade": false,
     "grade_id": "cell-de4fbd16946a9b3e",
     "locked": false,
     "schema_version": 3,
     "solution": true,
     "task": false
    }
   },
   "outputs": [
    {
     "name": "stdout",
     "output_type": "stream",
     "text": [
      "[-0.01063497 -0.00617219  0.03306133 -0.01737282 -0.00462226 -0.02314622\n",
      " -0.05604992  0.02916796 -0.010801   -0.03300651 -0.02570684 -0.05968053\n",
      " -0.07253076 -0.05030636 -0.11462098 -0.14272318 -0.04517768 -0.09251005\n",
      " -0.12351623 -0.16144376 -0.09367952 -0.10703513 -0.15796184 -0.16356487\n",
      " -0.20175012 -0.14599037 -0.16048399 -0.18702596 -0.19412089 -0.15489467\n",
      " -0.20226535 -0.25143301 -0.26965466 -0.18905555 -0.20989588 -0.1911423\n",
      " -0.18815606 -0.2118043  -0.27941712 -0.28693458 -0.1968736  -0.23205956\n",
      " -0.22176072 -0.22787656 -0.22661731 -0.25037316 -0.23640527 -0.1825264\n",
      " -0.20377398 -0.18928311 -0.24178057 -0.18155332 -0.15172983 -0.24233793\n",
      " -0.18775976 -0.17142598 -0.16425118 -0.18630098 -0.10048089 -0.16708811\n",
      " -0.13879805 -0.11828505 -0.13672498 -0.17287301 -0.11041485 -0.11714034\n",
      " -0.08815057 -0.08700881 -0.01347129 -0.01789204 -0.03780309 -0.02645492\n",
      " -0.03274874  0.02107412  0.01620485  0.05726235  0.06720417  0.04669535\n",
      "  0.03104027  0.07158178  0.05356739  0.1396129   0.11015213  0.11646921\n",
      "  0.17659542  0.10067081  0.18439832  0.2181493   0.15970227  0.17196024\n",
      "  0.28336798  0.21224967  0.23515974  0.2619455   0.28648182  0.24027006\n",
      "  0.23843401  0.33610441  0.27860138  0.30311918  0.28307939  0.34902238\n",
      "  0.35980065  0.27627372  0.35517465  0.37177603  0.35774891  0.35961681\n",
      "  0.42014087  0.39058543  0.41153844  0.39320566  0.36300029  0.39475603\n",
      "  0.40277301  0.38784949  0.36155963  0.36194033  0.41583546  0.3978495\n",
      "  0.40204512  0.41714098  0.41784978  0.35132291  0.42771379  0.42428019\n",
      "  0.40639081  0.42517757  0.40483224  0.42452297  0.34179262  0.36732794\n",
      "  0.31849023  0.31141963  0.32502794  0.38672467  0.31909164  0.26677841\n",
      "  0.31630195  0.31134748  0.28025661  0.27455208  0.25935486  0.26817802\n",
      "  0.26914855  0.13557146  0.21812054  0.17902403  0.229779    0.25973246\n",
      "  0.18170397  0.19180385  0.16643108  0.11942458  0.11486376  0.16677375\n",
      "  0.14215985  0.07916096  0.05071643  0.08264049  0.07611552  0.05595559\n",
      "  0.07351686 -0.0354361   0.01175488  0.0277564  -0.03343986 -0.01231613\n",
      " -0.09010917 -0.02398138  0.01222607 -0.03132113 -0.09473559 -0.08546013\n",
      " -0.05903266 -0.09636787 -0.09646823 -0.10639108 -0.13196156 -0.10079398\n",
      " -0.15116252 -0.14186252 -0.1887236  -0.19100434 -0.15300529 -0.20715514\n",
      " -0.22113671 -0.1695255  -0.23511231 -0.20303309 -0.22820279 -0.20604732\n",
      " -0.24283838 -0.20774798 -0.2005908  -0.2604865  -0.2544496  -0.22439627\n",
      " -0.23990464 -0.22314864 -0.27523493 -0.2909159  -0.20135137 -0.22642589\n",
      " -0.30416106 -0.27240799 -0.27611045 -0.30452116 -0.29149105 -0.2356286\n",
      " -0.26097631 -0.2971631  -0.28785397 -0.27487579 -0.24855913 -0.27255776\n",
      " -0.25954137 -0.28674346 -0.23580263 -0.32620486 -0.25165228 -0.20196394\n",
      " -0.23418146 -0.22715613 -0.26829644 -0.20778293 -0.26903722 -0.28307718\n",
      " -0.2382162  -0.20359441 -0.23275008 -0.20385082 -0.23851482 -0.22432937\n",
      " -0.13766283 -0.14911969 -0.22984967 -0.17136036 -0.15613252 -0.1890225\n",
      " -0.2074796  -0.12171888 -0.13657852 -0.17490856 -0.16732879 -0.13301445\n",
      " -0.14954064 -0.06480087 -0.16958689 -0.1536287  -0.09605441 -0.09983273\n",
      " -0.15756946 -0.09331256 -0.1302979  -0.11479671 -0.13169902 -0.12497365\n",
      " -0.09798931 -0.13379366 -0.06482544 -0.13504953 -0.11973503 -0.09039468\n",
      " -0.12292818 -0.09208907 -0.05801736 -0.13338387 -0.04422984 -0.09235509\n",
      " -0.09703034 -0.04651072 -0.07316057 -0.07716929 -0.05715515 -0.08672904\n",
      " -0.03410213 -0.06288757  0.00171399 -0.06735831 -0.03880723 -0.03400079\n",
      " -0.02845448 -0.01439291 -0.10430888 -0.05111171 -0.01404044 -0.10779227\n",
      " -0.04084409 -0.05191959 -0.10561948 -0.01897941 -0.04541792 -0.0635472\n",
      " -0.03663392 -0.07261138 -0.07366633 -0.07297964 -0.07954554 -0.03079891\n",
      " -0.0225403  -0.04278656 -0.07864155 -0.07086256 -0.07338825 -0.0583586\n",
      " -0.06362181 -0.11066597 -0.09886376 -0.10041027 -0.08748347 -0.06446558\n",
      " -0.10080632 -0.1527928  -0.06043875 -0.1027837  -0.06483895 -0.10062952\n",
      " -0.06469137 -0.11935458 -0.08856952 -0.13118586 -0.05870739 -0.11102331\n",
      " -0.10666112 -0.07130282 -0.07450888 -0.04134438 -0.06466676 -0.10733434\n",
      " -0.08612515 -0.10672563 -0.0820299  -0.02154072 -0.07912696 -0.05751481\n",
      " -0.04192102 -0.03818413 -0.08373006 -0.08800386 -0.03924242  0.00507364\n",
      " -0.0028964  -0.06704108  0.01517341 -0.03866277 -0.03777627 -0.02106882\n",
      " -0.0071584  -0.03132922 -0.01744295 -0.03058464 -0.06878594 -0.00090015\n",
      " -0.04822243  0.06124243  0.03542466 -0.00294622  0.03134454  0.00587968\n",
      "  0.02117964  0.03223034  0.05302963  0.05595928  0.0940575   0.12231611\n",
      "  0.05965696  0.09433339  0.10998629  0.12797831  0.10247889  0.05946055\n",
      "  0.12975324  0.1109032   0.12685915  0.07530648  0.08354666  0.11738627\n",
      "  0.07624118  0.14796855  0.14174149  0.16701961  0.18903233  0.14057146\n",
      "  0.18078335  0.15188121  0.15302949  0.16251459  0.12370669  0.16131774\n",
      "  0.2040163   0.15668674  0.20248318  0.2050019   0.16798311  0.22732094\n",
      "  0.21868726  0.16992065  0.21691041  0.23729363  0.19509288  0.2583313\n",
      "  0.18809698  0.26052311  0.2266912   0.19289983  0.18962198  0.25782933\n",
      "  0.21190119  0.27962932  0.28098395  0.25849386  0.27198948  0.29527031\n",
      "  0.31576945  0.25619844  0.2615628   0.21890972  0.23769106  0.30687572\n",
      "  0.23852808  0.22472463  0.21978744  0.23169542  0.30336252  0.22671469\n",
      "  0.22417008  0.2202308   0.20908671  0.24212883  0.29738266  0.23023633\n",
      "  0.28294279  0.17087654  0.22057933  0.23531761  0.22114548  0.24908685\n",
      "  0.19152936  0.16424367  0.17806057  0.22026437  0.24105594  0.1661039\n",
      "  0.22028224  0.16342618  0.15636092  0.1334735   0.18056907  0.15751009\n",
      "  0.21259596  0.1724401   0.12368175  0.07167899  0.14961762  0.10362782\n",
      "  0.14391132  0.15540256  0.09408307  0.1613301   0.08469366  0.11362165\n",
      "  0.11838049  0.06329809  0.06983166  0.13331285  0.08642948  0.02020716\n",
      "  0.11966355  0.08634902  0.05823196  0.05591406  0.05721928  0.02436228\n",
      " -0.03105275  0.04225952  0.07513177  0.01840901 -0.01742144  0.00238498\n",
      "  0.01574549  0.04674303 -0.03047527 -0.00911587 -0.00403844 -0.03433947\n",
      " -0.09726861 -0.05050279 -0.07211457 -0.06971517 -0.05897518 -0.03143673\n",
      " -0.07974303 -0.07303508 -0.02626095 -0.06084909 -0.11783679 -0.06875463\n",
      " -0.07638308 -0.10759321 -0.0446231  -0.01892111 -0.13900173 -0.08764387\n",
      " -0.0545433  -0.08204812 -0.07083503 -0.10062404 -0.11621608 -0.09000701\n",
      " -0.08329941 -0.16872577 -0.15720974 -0.13725432 -0.09609414 -0.12779416\n",
      " -0.14576521 -0.15784936 -0.13371459 -0.08212183 -0.17234085 -0.15064384\n",
      " -0.14318842 -0.13732231 -0.18342352 -0.11371314 -0.15408222 -0.19317382\n",
      " -0.15366509 -0.20020569 -0.11116727 -0.17540327 -0.15925624 -0.16203844\n",
      " -0.1295442  -0.11035491 -0.19615103 -0.10348345 -0.13890146 -0.18130387\n",
      " -0.11465386 -0.17027458 -0.20756918 -0.1340093  -0.13626535 -0.14282268\n",
      " -0.11368679 -0.14157749 -0.16016223 -0.21709222 -0.18671457 -0.20347326\n",
      " -0.13251616 -0.11319577 -0.16323731 -0.14969466 -0.17405179 -0.17506215\n",
      " -0.24365565 -0.17885026 -0.16746899 -0.12808595 -0.11298771 -0.14193827\n",
      " -0.22999524 -0.18290159 -0.1123744  -0.18072807 -0.14548255 -0.09330263\n",
      " -0.14029236 -0.19207336 -0.15705607 -0.19880809 -0.15782399 -0.1825691\n",
      " -0.17746285 -0.18550222 -0.20783135 -0.17862463 -0.16711941 -0.16400491\n",
      " -0.15381011 -0.21239103 -0.15428492 -0.12682021 -0.15330111 -0.15029173\n",
      " -0.15170956 -0.11530562 -0.17806836 -0.12643906 -0.18543476 -0.157985\n",
      " -0.1543231  -0.20504504 -0.12814751 -0.13023808 -0.14124964 -0.10860196\n",
      " -0.13004865 -0.17059039 -0.1450746  -0.10932113 -0.16035911 -0.10602858\n",
      " -0.14673776 -0.14683709 -0.10973806 -0.16260556 -0.10461997 -0.11927728\n",
      " -0.15228826 -0.16102338 -0.12673945 -0.16140868 -0.09749453 -0.06033579\n",
      " -0.11105756 -0.1490334  -0.10284855 -0.05702459 -0.12551439 -0.11729082\n",
      " -0.09409322 -0.0806602  -0.1101295  -0.12917929 -0.09419733 -0.06954383\n",
      " -0.13637595 -0.12356381 -0.12373482 -0.03992868 -0.05698683 -0.01188316\n",
      " -0.09017825 -0.01259473 -0.10468333 -0.08341126 -0.05574934 -0.04950261\n",
      " -0.01933201 -0.00375522 -0.01487448 -0.00197028 -0.03396422 -0.04137314\n",
      " -0.02649144 -0.06201726  0.04209937 -0.01720717 -0.04074336  0.0295892\n",
      "  0.0386372  -0.0313875   0.0395878   0.02521957 -0.03216959  0.01670274\n",
      "  0.08833671  0.00971392  0.0542142  -0.00235739  0.04319303  0.03779753\n",
      "  0.06144521  0.14301314  0.05640867  0.06125448  0.07888169  0.07323581\n",
      "  0.07986117  0.06791161  0.08531665  0.11050953  0.09515031  0.1342783\n",
      "  0.13065472  0.10167064  0.10430018  0.14964959  0.14074267  0.15992328\n",
      "  0.08968807  0.1040837   0.11251367  0.11936278  0.18779833  0.13012153\n",
      "  0.15749563  0.14845357  0.20550286  0.13877293  0.13028313  0.13739617\n",
      "  0.13009939  0.18523006  0.21810201  0.15353627  0.17144827  0.23687417\n",
      "  0.15088982  0.16862951  0.14197729  0.1819613   0.1931924   0.20267247\n",
      "  0.21753638  0.19889506  0.21745781  0.25550789  0.22963895  0.22624344\n",
      "  0.20230427  0.20089089  0.18402477  0.2158304   0.21622437  0.19124319\n",
      "  0.2252885   0.24555287  0.23197719  0.20329621  0.15449777  0.21408578\n",
      "  0.23884361  0.18700744  0.20204889  0.21636669  0.18948131  0.21511796\n",
      "  0.20565725  0.21786505  0.21945438  0.21686706  0.205119    0.15049052\n",
      "  0.19153719  0.2414648   0.20102671  0.2052103   0.10391182  0.16475282\n",
      "  0.17032804  0.21803816  0.19980702  0.15557626  0.20773792  0.18090233\n",
      "  0.21849591  0.15666671  0.20918042  0.21525008  0.15567219  0.13071498\n",
      "  0.15931899  0.1186464   0.16742825  0.14514752  0.12717036  0.10918849\n",
      "  0.16130891  0.10090341  0.19029521  0.14695873  0.1285822   0.11413045\n",
      "  0.10199195  0.04990368  0.10486806  0.15818157  0.09910609  0.12754845\n",
      "  0.05456015  0.10245937  0.13779039  0.06589942  0.06351006  0.05018139\n",
      "  0.12082254  0.03369     0.07242114  0.05638969  0.09915955  0.0811092\n",
      "  0.06405126  0.03542758  0.06038376  0.06123057  0.02231564  0.06260224\n",
      "  0.04678475  0.02204356  0.03939027 -0.03206538  0.04070053 -0.02102614\n",
      "  0.0044765   0.00610653 -0.01682852  0.00191148 -0.03649851  0.03216892\n",
      " -0.00881766  0.00428386 -0.0646847  -0.02646974 -0.00472368 -0.02405759\n",
      "  0.00058078  0.01828672 -0.06753673 -0.01610881 -0.10217927 -0.08226288\n",
      " -0.041789   -0.03501636 -0.03692183 -0.12101889 -0.05847829 -0.04323438\n",
      " -0.11494108 -0.07884417 -0.11827819 -0.06864951 -0.08340445 -0.09012203\n",
      " -0.12509406 -0.15164495 -0.11420502 -0.12862199 -0.17235464 -0.09094395\n",
      " -0.08816756 -0.12603921 -0.08247407 -0.14558398 -0.15172271 -0.05527139\n",
      " -0.16108702 -0.15784095 -0.15406755 -0.12668805 -0.14995343 -0.13595018\n",
      " -0.16698938 -0.17174731 -0.1538251  -0.15271106 -0.15504008 -0.13105832\n",
      " -0.12326957 -0.19633142 -0.15334869 -0.16897901 -0.12415181 -0.16439347\n",
      " -0.16095529 -0.14964008 -0.18976615 -0.17638922 -0.2161027  -0.16328306\n",
      " -0.24603169 -0.20887835 -0.18806485 -0.12862293 -0.15248551 -0.23034916\n",
      " -0.16087229 -0.18085529 -0.20292692 -0.19303155 -0.23013529 -0.16710987\n",
      " -0.20848727 -0.18333383 -0.17894635 -0.12271558 -0.12515812 -0.22899416\n",
      " -0.12989313 -0.20267752 -0.21702636 -0.21885334 -0.1969874  -0.28233921\n",
      " -0.2042722  -0.15379155 -0.2280512  -0.11980589 -0.17845399 -0.20133528\n",
      " -0.1994989  -0.13506945 -0.18417573 -0.15866314 -0.19953119 -0.17876313\n",
      " -0.17840271 -0.22491067 -0.19559556 -0.15800229 -0.20176156 -0.16123182\n",
      " -0.21130855 -0.18098499 -0.15176503 -0.16686939 -0.12953374 -0.21047848\n",
      " -0.20299219 -0.15900003 -0.17200576 -0.19604941 -0.16909877 -0.15005889\n",
      " -0.12243567 -0.14939073 -0.13443911 -0.17973433 -0.09943209 -0.25183895\n",
      " -0.1178258  -0.15942563 -0.19068214 -0.14266667 -0.11641764 -0.12198891\n",
      " -0.11392162 -0.05412224 -0.11492926 -0.12670151 -0.12730174 -0.10966135\n",
      " -0.14792011 -0.08648226 -0.12951571 -0.03399987 -0.12797907 -0.12939183\n",
      " -0.03596728 -0.04598122 -0.02917998 -0.0797069  -0.01634359 -0.02597993\n",
      " -0.11267511 -0.01835171 -0.07843524 -0.00093308 -0.00641334 -0.01999895\n",
      " -0.02672968  0.01220818 -0.0486554  -0.02819082 -0.04419551 -0.00533802\n",
      "  0.01101748  0.03633794 -0.03635815  0.0034047  -0.00276036  0.02653065\n",
      "  0.03123705  0.04381168  0.02359035  0.04064629  0.06207694  0.10306743\n",
      "  0.03503096  0.081       0.01718708  0.10898673  0.08593573  0.0889565\n",
      "  0.12649602  0.05382781  0.09830855  0.06723803  0.06661     0.12076027\n",
      "  0.10981645  0.0173825   0.16329918  0.10832991  0.09682307  0.11879301\n",
      "  0.11292119  0.11511294  0.11233474  0.08667598  0.0980906   0.10065084\n",
      "  0.16570082  0.14432479  0.15523742  0.08503548]\n",
      "Estimated mass =  0  and true  =  0.5\n",
      "Estimated length =  0  and true value =  0.15\n",
      "Estimated moment of inertia =  0  and true value =  0.006\n"
     ]
    }
   ],
   "source": [
    "#Answer: \n",
    "def X_m(index):\n",
    "    return np.array([[r*a2[1]*np.cos(a1[index]) - np.sin(a1[index])*g, dda1[index], dda1[index], 0], [r*np.cos(a1[index])*dda1[index] - r*np.sin(a1[index])*(da1[index]**2), 0, 0,(r**2)*dda2[index]]])\n",
    "def Y_m(index):\n",
    "    return np.array([[M], [-M - (m2*(r**2)*dda2[index]) - I2*dda1[index]]])\n",
    "'''X_mat = np.array([[r*a2[1]*np.cos(a1[1]) - np.sin(a1[1])*g, dda1[1], dda1[1], 0], [r*np.cos(a1[1])*dda1[1] - r*np.sin(a1[1])*(da1[1]**2), 0, 0,(r**2)*dda2[1]]])\n",
    "Y_mat = np.array([[M], [-M - (m2*(r**2)*dda2[1]) - I2*dda1[1]]])'''\n",
    "# print(a1)\n",
    "# lambda_identity = 1e-6 * np.eye(X_mat.shape[1])  # Small regularization term\n",
    "# theta_hat = np.matmul(np.linalg.inv(np.matmul(np.transpose(X_mat), X_mat) + lambda_identity), \n",
    "#                      np.matmul(np.transpose(X_mat), Y_mat))\n",
    "\n",
    "est_m1 = 0\n",
    "est_l =  0\n",
    "est_I1 =0\n",
    "\n",
    "\n",
    "print('Estimated mass = ', np.round(est_m1, 3), ' and true  = ', robot.p['m1'])\n",
    "print('Estimated length = ', np.round(est_l, 3), ' and true value = ', robot.p['l'])\n",
    "print('Estimated moment of inertia = ', np.round(est_I1, 3), ' and true value = ', robot.p['I1'])\n",
    "\n"
   ]
  },
  {
   "cell_type": "code",
   "execution_count": null,
   "id": "5937549e",
   "metadata": {
    "deletable": false,
    "editable": false,
    "nbgrader": {
     "cell_type": "code",
     "checksum": "12d1fc536527db4f190154718e20fbdc",
     "grade": true,
     "grade_id": "cell-82dfd2b89a20d09d",
     "locked": true,
     "points": 1,
     "schema_version": 3,
     "solution": false,
     "task": false
    }
   },
   "outputs": [],
   "source": []
  },
  {
   "cell_type": "markdown",
   "id": "42f72e82",
   "metadata": {
    "deletable": false,
    "editable": false,
    "nbgrader": {
     "cell_type": "markdown",
     "checksum": "917ddaaf8667e9411245209b9923ca7d",
     "grade": false,
     "grade_id": "cell-e449dd3a384fe8c8",
     "locked": true,
     "schema_version": 3,
     "solution": false,
     "task": false
    }
   },
   "source": [
    "## Exercise 4: Calculate the cost function \n",
    "\n",
    "When solving the linear regression problem we minimize a cost function $J(\\theta) = \\frac{1}{2 n} \\sum_{i=1}^n \\varepsilon_i^T \\varepsilon_i$. Where $\\varepsilon_i$ is in this case a vector of two elements for time step i. Calculate the value of the cost function on the saved data with the parameters estimated. \n",
    "\n",
    "Hint: n = n_steps."
   ]
  },
  {
   "cell_type": "code",
   "execution_count": null,
   "id": "910c7320",
   "metadata": {
    "deletable": false,
    "nbgrader": {
     "cell_type": "code",
     "checksum": "b3ee41cef849be430a097bfd5775d3b6",
     "grade": false,
     "grade_id": "cell-e127486213fb7576",
     "locked": false,
     "schema_version": 3,
     "solution": true,
     "task": false
    }
   },
   "outputs": [],
   "source": [
    "#Answer: \n",
    "\n",
    "# cost_value = \n",
    "\n",
    "print('cost_value', cost_value)"
   ]
  },
  {
   "cell_type": "code",
   "execution_count": null,
   "id": "1bf484bd",
   "metadata": {
    "deletable": false,
    "editable": false,
    "nbgrader": {
     "cell_type": "code",
     "checksum": "998f6d56a15af637152103765c9da414",
     "grade": true,
     "grade_id": "cell-5964baeced031ca7",
     "locked": true,
     "points": 1,
     "schema_version": 3,
     "solution": false,
     "task": false
    }
   },
   "outputs": [],
   "source": []
  },
  {
   "cell_type": "markdown",
   "id": "28f26bd4",
   "metadata": {
    "deletable": false,
    "editable": false,
    "nbgrader": {
     "cell_type": "markdown",
     "checksum": "d0de9baace3b234360b6f62a8dd71915",
     "grade": false,
     "grade_id": "cell-a41f216351b18e46",
     "locked": true,
     "schema_version": 3,
     "solution": false,
     "task": false
    }
   },
   "source": [
    "## Exercise 5: Reference signal\n",
    "\n",
    "Try to change the position reference signal in the controller, try a few different ones and report the identified parameters and loss value below together with the function used. You only need to change pos_ref in the update function in the controller. \n",
    "\n",
    "Hint: Try more complex functions by stacking sinusoidal, e.g. $\\textit{pos_ref} = 0.2sin(2t) + 0.03cos(7t)$.\n"
   ]
  },
  {
   "cell_type": "markdown",
   "id": "dbe1b73d",
   "metadata": {
    "deletable": false,
    "nbgrader": {
     "cell_type": "markdown",
     "checksum": "2e8e45bf159fbfb3701419c7268f0c19",
     "grade": true,
     "grade_id": "cell-6fab05ba80dbc559",
     "locked": false,
     "points": 1,
     "schema_version": 3,
     "solution": true,
     "task": false
    }
   },
   "source": [
    "Answer:\n",
    "\n",
    "| ref signal | cost function value | $m_1$ | l| $I_1$ |\n",
    "| --- | --- | --- | --- | --- |\n",
    "| 0 |  |  |  |  | \n",
    "| 0.2*np.sin(t*2) |  |  | |  | \n",
    "|  |  | | |  | \n",
    "| |  | | |  | "
   ]
  },
  {
   "cell_type": "markdown",
   "id": "58b5bb13",
   "metadata": {
    "deletable": false,
    "editable": false,
    "nbgrader": {
     "cell_type": "markdown",
     "checksum": "c4368b063affa6c7ca2aa0b182767066",
     "grade": false,
     "grade_id": "cell-d7cb19d591af7c90",
     "locked": true,
     "schema_version": 3,
     "solution": false,
     "task": false
    }
   },
   "source": [
    "## Exercise 6: Analyse cost function and reference signals. \n",
    "\n",
    "1. How do more complex reference signals affect parameter estimation?\n",
    "2. Does the cost function value improve with better-identified parameters, why/why not?\n",
    "3. Could you keep making the reference signal more and more complex for better estimation or is there a limit, why?\n"
   ]
  },
  {
   "cell_type": "markdown",
   "id": "e6f8d3ac",
   "metadata": {
    "deletable": false,
    "nbgrader": {
     "cell_type": "markdown",
     "checksum": "0d1d9c091ee4568aa3c19bc2b6874d79",
     "grade": true,
     "grade_id": "cell-865a37da81c84c43",
     "locked": false,
     "points": 1,
     "schema_version": 3,
     "solution": true,
     "task": false
    }
   },
   "source": [
    "Answer:\n",
    "\n"
   ]
  },
  {
   "cell_type": "markdown",
   "id": "ce1f4dbf",
   "metadata": {
    "deletable": false,
    "editable": false,
    "nbgrader": {
     "cell_type": "markdown",
     "checksum": "435af20647bf45ab321ffe507b0999f9",
     "grade": false,
     "grade_id": "cell-806af6fd0f12c346",
     "locked": true,
     "schema_version": 3,
     "solution": false,
     "task": false
    }
   },
   "source": [
    " ## Exercise 7:  Noise"
   ]
  },
  {
   "cell_type": "markdown",
   "id": "357e2eac",
   "metadata": {
    "deletable": false,
    "editable": false,
    "nbgrader": {
     "cell_type": "markdown",
     "checksum": "cae5550be9d029174d7e9318f2b2980e",
     "grade": false,
     "grade_id": "cell-a003cd784957e7b9",
     "locked": true,
     "schema_version": 3,
     "solution": false,
     "task": false
    }
   },
   "source": [
    "Explore how the noise levels added before the data collection affects the identification results and also the value of the cost function. Why is it that the cost function reacts differently compared to exercise 5? Use the position reference signal with the best parameter identification from exercise 5."
   ]
  },
  {
   "cell_type": "markdown",
   "id": "7964538f",
   "metadata": {
    "deletable": false,
    "nbgrader": {
     "cell_type": "markdown",
     "checksum": "8fe92e8a1a42754494199ac147da3e17",
     "grade": true,
     "grade_id": "cell-a786d39416b80c66",
     "locked": false,
     "points": 1,
     "schema_version": 3,
     "solution": true,
     "task": false
    }
   },
   "source": [
    "Answer:\n",
    "\n",
    "\n",
    "$\\textit{pos_ref} = $\n",
    "\n",
    "| scale_noise | cost function value | $m_1$ | l| $I_1$ |\n",
    "| --- | --- | --- | --- | --- |\n",
    "| 0.1 |  | | |  | \n",
    "| 0.5 | |  | |  | \n",
    "| 1 |  |  | |  | \n",
    "| 2 |  | |  | | \n",
    "| 10 |  |  |  | | \n",
    "\n",
    "Text answer: "
   ]
  },
  {
   "cell_type": "code",
   "execution_count": null,
   "id": "7a4953c6",
   "metadata": {},
   "outputs": [],
   "source": []
  }
 ],
 "metadata": {
  "kernelspec": {
   "display_name": "Python 3 (ipykernel)",
   "language": "python",
   "name": "python3"
  },
  "language_info": {
   "codemirror_mode": {
    "name": "ipython",
    "version": 3
   },
   "file_extension": ".py",
   "mimetype": "text/x-python",
   "name": "python",
   "nbconvert_exporter": "python",
   "pygments_lexer": "ipython3",
   "version": "3.12.2"
  }
 },
 "nbformat": 4,
 "nbformat_minor": 5
}
